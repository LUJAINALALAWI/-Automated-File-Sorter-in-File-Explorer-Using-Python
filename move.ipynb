{
 "cells": [
  {
   "cell_type": "code",
   "execution_count": 25,
   "id": "f473ca1d-ec22-4957-beba-ea852a11c7db",
   "metadata": {},
   "outputs": [],
   "source": [
    "import os, shutil"
   ]
  },
  {
   "cell_type": "code",
   "execution_count": 26,
   "id": "2d0f1a6c-91ba-4c94-92cd-b86efe861035",
   "metadata": {},
   "outputs": [],
   "source": [
    "path = r\"C:/Users/96650/OneDrive - University of Jeddah/Desktop/python tutorials/\""
   ]
  },
  {
   "cell_type": "code",
   "execution_count": 27,
   "id": "4b01581b-e399-4b27-972c-0eb3db4859e3",
   "metadata": {},
   "outputs": [],
   "source": [
    "file_name =os.listdir(path)"
   ]
  },
  {
   "cell_type": "code",
   "execution_count": 28,
   "id": "fcc60a94-1c7e-4564-bc93-30f69e8520cf",
   "metadata": {},
   "outputs": [],
   "source": [
    "folder_names =['csv files','imag files','text files']\n",
    "\n",
    "for loop in range(0,3):\n",
    "    if not os.path.exists(path + folder_names[loop]):\n",
    "        print (path + folder_names[loop])\n",
    "        os.makedirs(path + folder_names[loop])"
   ]
  },
  {
   "cell_type": "code",
   "execution_count": 30,
   "id": "0fd6f27e-6d26-483f-8035-ec4812636531",
   "metadata": {},
   "outputs": [],
   "source": [
    "for file in file_name:\n",
    "    if \".csv\" in file and not os.path.exists(path+\"csv files/\" +file):\n",
    "        shutil.move(path+ file,path +\"csv files/\"+file)\n",
    "    elif \".png\" in file and not os.path.exists(path+\"imag files/\" +file):\n",
    "        shutil.move(path+ file,path +\"imag files/\"+file)\n",
    "    elif \".txt\" in file and not os.path.exists(path+\"text files/\" +file):\n",
    "        shutil.move(path+ file,path +\"text files/\"+file)"
   ]
  },
  {
   "cell_type": "code",
   "execution_count": null,
   "id": "bb76131d-5094-426b-8414-d3c7e6dfa2c6",
   "metadata": {},
   "outputs": [],
   "source": []
  },
  {
   "cell_type": "code",
   "execution_count": null,
   "id": "fbd7fac2-3e51-4b03-ab2e-21d6a4e11a4d",
   "metadata": {},
   "outputs": [],
   "source": []
  },
  {
   "cell_type": "code",
   "execution_count": null,
   "id": "20174ccd-de78-4ea2-a4fa-e073586df00f",
   "metadata": {},
   "outputs": [],
   "source": []
  },
  {
   "cell_type": "code",
   "execution_count": null,
   "id": "4470a0a0-9e82-47e7-99f5-a793f2dfdaac",
   "metadata": {},
   "outputs": [],
   "source": []
  },
  {
   "cell_type": "code",
   "execution_count": null,
   "id": "7cfa62e6-36b1-455f-8b44-6aee361e4ebf",
   "metadata": {},
   "outputs": [],
   "source": []
  },
  {
   "cell_type": "code",
   "execution_count": null,
   "id": "2530a74f-6d40-4fad-b70a-7026d4c5c33b",
   "metadata": {},
   "outputs": [],
   "source": []
  },
  {
   "cell_type": "code",
   "execution_count": null,
   "id": "c6f4edac-4c92-4c3a-9f17-13cb5d6b74e8",
   "metadata": {},
   "outputs": [],
   "source": []
  },
  {
   "cell_type": "code",
   "execution_count": null,
   "id": "3180c93c-5cf8-4238-bac0-9a4f648ac311",
   "metadata": {},
   "outputs": [],
   "source": []
  },
  {
   "cell_type": "code",
   "execution_count": null,
   "id": "5688ac24-95d5-475b-8f77-fc944805dcde",
   "metadata": {},
   "outputs": [],
   "source": []
  },
  {
   "cell_type": "code",
   "execution_count": null,
   "id": "222e0516-24ea-45d7-83cb-caf59ae546fd",
   "metadata": {},
   "outputs": [],
   "source": []
  },
  {
   "cell_type": "code",
   "execution_count": null,
   "id": "937155ae-e768-4d06-bd7f-1d42a4747b92",
   "metadata": {},
   "outputs": [],
   "source": []
  }
 ],
 "metadata": {
  "kernelspec": {
   "display_name": "Python 3 (ipykernel)",
   "language": "python",
   "name": "python3"
  },
  "language_info": {
   "codemirror_mode": {
    "name": "ipython",
    "version": 3
   },
   "file_extension": ".py",
   "mimetype": "text/x-python",
   "name": "python",
   "nbconvert_exporter": "python",
   "pygments_lexer": "ipython3",
   "version": "3.12.4"
  }
 },
 "nbformat": 4,
 "nbformat_minor": 5
}
